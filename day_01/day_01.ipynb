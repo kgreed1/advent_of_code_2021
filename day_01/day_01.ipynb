{
 "cells": [
  {
   "cell_type": "markdown",
   "id": "dc42b530",
   "metadata": {},
   "source": [
    "## Part 1"
   ]
  },
  {
   "cell_type": "code",
   "execution_count": 5,
   "id": "537fb0e9",
   "metadata": {},
   "outputs": [],
   "source": [
    "import os\n",
    "\n",
    "file = open('input', 'r')\n",
    "lines = file.read().splitlines()"
   ]
  },
  {
   "cell_type": "code",
   "execution_count": 28,
   "id": "4299400e",
   "metadata": {},
   "outputs": [
    {
     "name": "stdout",
     "output_type": "stream",
     "text": [
      "1681\n"
     ]
    }
   ],
   "source": [
    "num_increases = 0\n",
    "\n",
    "for i in range(1, len(lines)):\n",
    "    if float(lines[i]) > float(lines[i - 1]):\n",
    "        num_increases += 1\n",
    "\n",
    "print(num_increases)"
   ]
  },
  {
   "cell_type": "code",
   "execution_count": 30,
   "id": "eebaf9f5",
   "metadata": {},
   "outputs": [
    {
     "name": "stdout",
     "output_type": "stream",
     "text": [
      "1681\n"
     ]
    }
   ],
   "source": [
    "import numpy as np\n",
    "\n",
    "vals = np.array(lines, dtype='float32')\n",
    "changes = vals[1:] - vals[:-1]\n",
    "increases = np.array(changes > 0)\n",
    "num_increases = np.sum(increases)\n",
    "\n",
    "print(num_increases)"
   ]
  },
  {
   "cell_type": "markdown",
   "id": "47085e11",
   "metadata": {},
   "source": [
    "## Part 2"
   ]
  },
  {
   "cell_type": "markdown",
   "id": "1bc599e6",
   "metadata": {},
   "source": [
    "The sneaky way to do this is to notice that only one value in the sum changes for each window.\n",
    "For example: consider measurements [10, 5, 4, 9]. This will be split into windows [10, 5, 4] and [5, 4, 9]. The 5 and 4 are common to both, with the only change being the 10 changing to 9.\n",
    "\n",
    "Can therefore simplify the problem to: is the new number larger than the old number?"
   ]
  },
  {
   "cell_type": "code",
   "execution_count": 38,
   "id": "1b54bdf0",
   "metadata": {},
   "outputs": [
    {
     "name": "stdout",
     "output_type": "stream",
     "text": [
      "1704\n"
     ]
    }
   ],
   "source": [
    "num_increases = 0\n",
    "window_size = 3\n",
    "\n",
    "for i in range(0, len(lines) - window_size):\n",
    "    if float(lines[i]) < float(lines[i + window_size]):\n",
    "        num_increases += 1\n",
    "\n",
    "print(num_increases)"
   ]
  },
  {
   "cell_type": "code",
   "execution_count": 37,
   "id": "361a6ea6",
   "metadata": {},
   "outputs": [
    {
     "name": "stdout",
     "output_type": "stream",
     "text": [
      "1704\n"
     ]
    }
   ],
   "source": [
    "changes = vals[window_size:] - vals[:-window_size]\n",
    "increases = np.array(changes > 0)\n",
    "num_increases = np.sum(increases)\n",
    "\n",
    "print(num_increases)"
   ]
  }
 ],
 "metadata": {
  "kernelspec": {
   "display_name": "Python 3",
   "language": "python",
   "name": "python3"
  },
  "language_info": {
   "codemirror_mode": {
    "name": "ipython",
    "version": 3
   },
   "file_extension": ".py",
   "mimetype": "text/x-python",
   "name": "python",
   "nbconvert_exporter": "python",
   "pygments_lexer": "ipython3",
   "version": "3.8.8"
  }
 },
 "nbformat": 4,
 "nbformat_minor": 5
}
