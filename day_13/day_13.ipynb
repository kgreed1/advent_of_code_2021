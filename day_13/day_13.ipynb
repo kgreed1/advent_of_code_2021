{
 "cells": [
  {
   "cell_type": "code",
   "execution_count": 85,
   "id": "56db28c0",
   "metadata": {},
   "outputs": [],
   "source": [
    "file = open('input', 'r')\n",
    "file_str = file.read()\n",
    "lines = file_str.splitlines()"
   ]
  },
  {
   "cell_type": "markdown",
   "id": "db643e87",
   "metadata": {},
   "source": [
    "## Part 1"
   ]
  },
  {
   "cell_type": "code",
   "execution_count": 86,
   "id": "fcad6ffd",
   "metadata": {},
   "outputs": [],
   "source": [
    "import re\n",
    "import numpy as np\n",
    "\n",
    "split = lines.index('')\n",
    "dots = lines[:split]\n",
    "instructions = lines[split+1:]\n",
    "x = [int(d.split(',')[0]) for d in dots]\n",
    "y = [int(d.split(',')[1]) for d in dots]\n",
    "instructions = [re.findall('[xy]=[0-9]*', i)[0] for i in instructions]\n",
    "instructions = [(i.split('=')[0], int(i.split('=')[1])) for i in instructions]\n",
    "\n",
    "paper = np.zeros((max(y) + 1, max(x) + 1), dtype='int')\n",
    "for (x_i,y_i) in zip(x,y):\n",
    "    paper[y_i][x_i] = True"
   ]
  },
  {
   "cell_type": "code",
   "execution_count": 87,
   "id": "c002f84a",
   "metadata": {},
   "outputs": [
    {
     "name": "stdout",
     "output_type": "stream",
     "text": [
      "770\n"
     ]
    }
   ],
   "source": [
    "def fold_x(paper, line):\n",
    "    left = paper[:,0:line]\n",
    "    right = paper[:,line+1:]\n",
    "    left = np.flip(left, axis=1)\n",
    "    \n",
    "    extra_cols = abs(left.shape[1] - right.shape[1])\n",
    "    if left.shape[1] <= right.shape[1]:\n",
    "        left = np.append(left, np.zeros((left.shape[0], extra_cols)), axis=1)\n",
    "    else:\n",
    "        right = np.append(right, np.zeros((right.shape[0], extra_cols)), axis=1)\n",
    "    \n",
    "    return (left + right) >= 1\n",
    "\n",
    "def fold_y(paper, line):\n",
    "    top = paper[0:line,:]\n",
    "    bottom = paper[line+1:,:]\n",
    "    bottom = np.flip(bottom, axis=0)\n",
    "    \n",
    "    extra_rows = abs(top.shape[0] - bottom.shape[0])\n",
    "    if bottom.shape[0] <= top.shape[0]:\n",
    "        bottom = np.append(np.zeros((extra_rows, top.shape[1])), bottom, axis=0)\n",
    "    else:\n",
    "        top = np.append(np.zeros((extra_rows, top.shape[1])), top, axis=0)\n",
    "    \n",
    "    return (top + bottom) >= 1\n",
    "\n",
    "for (axis, line) in instructions[:1]:\n",
    "    if axis == 'x':\n",
    "        tmp = fold_x(paper, line)\n",
    "    else:\n",
    "        tmp = fold_y(paper, line)\n",
    "    \n",
    "    print(np.sum(tmp))"
   ]
  },
  {
   "cell_type": "markdown",
   "id": "f67694cc",
   "metadata": {},
   "source": [
    "## Part 2"
   ]
  },
  {
   "cell_type": "code",
   "execution_count": 88,
   "id": "b0407e6b",
   "metadata": {},
   "outputs": [
    {
     "name": "stdout",
     "output_type": "stream",
     "text": [
      "####.###..#..#.####.#....###..###..###..\n",
      "#....#..#.#..#.#....#....#..#.#..#.#..#.\n",
      "###..#..#.#..#.###..#....#..#.###..#..#.\n",
      "#....###..#..#.#....#....###..#..#.###..\n",
      "#....#....#..#.#....#....#....#..#.#.#..\n",
      "####.#.....##..####.####.#....###..#..#.\n",
      "\n"
     ]
    }
   ],
   "source": [
    "for (axis, line) in instructions:\n",
    "    if axis == 'x':\n",
    "        paper = fold_x(paper, line)\n",
    "    else:\n",
    "        paper = fold_y(paper, line)\n",
    "    \n",
    "def display_paper(paper):\n",
    "    paper = np.flip(paper, axis=1)\n",
    "    display = ''\n",
    "    for r in range(paper.shape[0]):\n",
    "        for c in range(paper.shape[1]):\n",
    "            if paper[r, c]:\n",
    "                display += '#'\n",
    "            else:\n",
    "                display += '.'\n",
    "        display += '\\n'\n",
    "    \n",
    "    print(display)\n",
    "\n",
    "display_paper(paper)"
   ]
  }
 ],
 "metadata": {
  "kernelspec": {
   "display_name": "Python 3",
   "language": "python",
   "name": "python3"
  },
  "language_info": {
   "codemirror_mode": {
    "name": "ipython",
    "version": 3
   },
   "file_extension": ".py",
   "mimetype": "text/x-python",
   "name": "python",
   "nbconvert_exporter": "python",
   "pygments_lexer": "ipython3",
   "version": "3.8.8"
  }
 },
 "nbformat": 4,
 "nbformat_minor": 5
}
