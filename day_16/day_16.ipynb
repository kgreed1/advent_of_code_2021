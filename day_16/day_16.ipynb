{
 "cells": [
  {
   "cell_type": "code",
   "execution_count": 1152,
   "id": "56db28c0",
   "metadata": {},
   "outputs": [],
   "source": [
    "file = open('input', 'r')\n",
    "file_str = file.read()\n",
    "lines = file_str.splitlines()"
   ]
  },
  {
   "cell_type": "markdown",
   "id": "db643e87",
   "metadata": {},
   "source": [
    "## Part 1"
   ]
  },
  {
   "cell_type": "code",
   "execution_count": 1174,
   "id": "fcad6ffd",
   "metadata": {},
   "outputs": [],
   "source": [
    "from math import prod\n",
    "\n",
    "def h2b(s):\n",
    "    h2b = {'0': '0000','1': '0001','2': '0010','3': '0011',\n",
    "           '4': '0100','5': '0101','6': '0110','7': '0111',\n",
    "           '8': '1000','9': '1001','A': '1010','B': '1011',\n",
    "           'C': '1100','D': '1101','E': '1110','F': '1111'}\n",
    "    s = ''.join(h2b[c] for c in s)\n",
    "    return s\n",
    "\n",
    "def b2d(s):\n",
    "    s = s[::-1] # reverse string\n",
    "    decimal = 0\n",
    "    for i,c in enumerate(s):\n",
    "        decimal += int(c) * 2 ** i\n",
    "    return decimal\n",
    "\n",
    "class Packet:\n",
    "    def __init__(self, b):\n",
    "        self.b = b\n",
    "        self.version = b2d(self.b[:3])\n",
    "        self.type = b2d(self.b[3:6])\n",
    "        if self.type == 4:\n",
    "            self.subpackets = self.parse_literal()\n",
    "        else:\n",
    "            self.subpackets = self.parse_operator()\n",
    "\n",
    "    def parse_literal(self):\n",
    "        value_str = ''\n",
    "        length = 6\n",
    "        parsing = True\n",
    "        while parsing:\n",
    "            group = self.b[length:length+5]\n",
    "            value_str += group[1:]\n",
    "            length += 5\n",
    "            if group[0] == '0':\n",
    "                parsing = False\n",
    "        self.length = length\n",
    "        value = b2d(value_str)\n",
    "        return value\n",
    "        \n",
    "    def parse_operator(self):\n",
    "        len_id = self.b[6]\n",
    "        subpackets = []\n",
    "        if len_id == '0':\n",
    "            self.length = 22 + b2d(self.b[7:22])\n",
    "            to_read = self.b[22:self.length]\n",
    "\n",
    "            while to_read:\n",
    "                subpackets.append(Packet(to_read))\n",
    "                to_read = to_read[subpackets[-1].length:]\n",
    "        else:\n",
    "            num_subpackets = b2d(self.b[7:18])\n",
    "            to_read = self.b[18:]\n",
    "            for i in range(num_subpackets):\n",
    "                subpackets.append(Packet(to_read))\n",
    "                to_read = to_read[subpackets[-1].length:]\n",
    "            self.length = 18 + sum(p.length for p in subpackets)\n",
    "        return subpackets\n",
    "\n",
    "    def version_sum(self):\n",
    "        if self.type == 4:\n",
    "            return self.version\n",
    "        else:\n",
    "            return self.version + sum(p.version_sum() for p in self.subpackets)\n",
    "\n",
    "    def value(self):\n",
    "        if self.type == 0:\n",
    "            return sum(p.value() for p in self.subpackets)\n",
    "        elif self.type == 1:\n",
    "            return prod(p.value() for p in self.subpackets)\n",
    "        elif self.type == 2:\n",
    "            return min(p.value() for p in self.subpackets)\n",
    "        elif self.type == 3:\n",
    "            return max(p.value() for p in self.subpackets)\n",
    "        elif self.type == 4:\n",
    "            return self.subpackets\n",
    "        elif self.type == 5:\n",
    "            return int(self.subpackets[0].value() > self.subpackets[1].value())\n",
    "        elif self.type == 6:\n",
    "            return int(self.subpackets[0].value() < self.subpackets[1].value())\n",
    "        elif self.type == 7:\n",
    "            return int(self.subpackets[0].value() == self.subpackets[1].value())"
   ]
  },
  {
   "cell_type": "code",
   "execution_count": 1176,
   "id": "0e43d8aa",
   "metadata": {},
   "outputs": [
    {
     "name": "stdout",
     "output_type": "stream",
     "text": [
      "913\n"
     ]
    }
   ],
   "source": [
    "s = h2b(file_str.strip())\n",
    "p = Packet(s)\n",
    "print(p.version_sum())"
   ]
  },
  {
   "cell_type": "markdown",
   "id": "f67694cc",
   "metadata": {},
   "source": [
    "## Part 2"
   ]
  },
  {
   "cell_type": "code",
   "execution_count": 1177,
   "id": "fed5d9ba",
   "metadata": {},
   "outputs": [
    {
     "name": "stdout",
     "output_type": "stream",
     "text": [
      "1510977819698\n"
     ]
    }
   ],
   "source": [
    "print(p.value())"
   ]
  }
 ],
 "metadata": {
  "kernelspec": {
   "display_name": "Python 3",
   "language": "python",
   "name": "python3"
  },
  "language_info": {
   "codemirror_mode": {
    "name": "ipython",
    "version": 3
   },
   "file_extension": ".py",
   "mimetype": "text/x-python",
   "name": "python",
   "nbconvert_exporter": "python",
   "pygments_lexer": "ipython3",
   "version": "3.8.8"
  }
 },
 "nbformat": 4,
 "nbformat_minor": 5
}
