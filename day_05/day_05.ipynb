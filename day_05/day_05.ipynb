{
 "cells": [
  {
   "cell_type": "code",
   "execution_count": 1,
   "id": "56db28c0",
   "metadata": {},
   "outputs": [],
   "source": [
    "file = open('input', 'r')\n",
    "file_str = file.read()\n",
    "lines = file_str.splitlines()"
   ]
  },
  {
   "cell_type": "markdown",
   "id": "db643e87",
   "metadata": {},
   "source": [
    "## Part 1"
   ]
  },
  {
   "cell_type": "code",
   "execution_count": 50,
   "id": "498e85b0",
   "metadata": {},
   "outputs": [],
   "source": [
    "vent_lines = [l.split(' -> ') for l in lines]\n",
    "vent_lines = [[coords.split(',') for coords in l] for l in vent_lines]\n",
    "vent_lines = [[tuple(map(int, coords)) for coords in l] for l in vent_lines]\n",
    "\n",
    "x_1s = [l[0][0] for l in vent_lines]\n",
    "x_2s = [l[1][0] for l in vent_lines]\n",
    "y_1s = [l[0][1] for l in vent_lines]\n",
    "y_2s = [l[1][1] for l in vent_lines]"
   ]
  },
  {
   "cell_type": "code",
   "execution_count": 69,
   "id": "fcad6ffd",
   "metadata": {},
   "outputs": [],
   "source": [
    "import numpy as np\n",
    "\n",
    "# Represent ocean floor as 2D matrix, each element counts number of lines crossing that point\n",
    "\n",
    "max_x = max(max(x_1s), max(x_2s))\n",
    "max_y = max(max(y_1s), max(y_2s))\n",
    "ocean_floor = np.zeros((max_x+1, max_y+1))\n",
    "\n",
    "for x_1, x_2, y_1, y_2 in zip(x_1s, x_2s, y_1s, y_2s):\n",
    "    \n",
    "    # vertical lines\n",
    "    if x_1 == x_2:\n",
    "        \n",
    "        # make y_1 the lower value so ranging works\n",
    "        if y_2 < y_1:\n",
    "            y_1, y_2 = y_2, y_1\n",
    "\n",
    "        for y in range(y_1, y_2+1):\n",
    "            ocean_floor[x_1][y] += 1\n",
    "            \n",
    "    # horizontal lines\n",
    "    if y_1 == y_2:\n",
    "        \n",
    "        # make x_1 the lower value so ranging works\n",
    "        if x_2 < x_1:\n",
    "            x_1, x_2 = x_2, x_1\n",
    "        \n",
    "        for x in range(x_1, x_2+1):\n",
    "            ocean_floor[x][y_1] += 1"
   ]
  },
  {
   "cell_type": "code",
   "execution_count": 70,
   "id": "ff4bb610",
   "metadata": {},
   "outputs": [
    {
     "name": "stdout",
     "output_type": "stream",
     "text": [
      "5306\n"
     ]
    }
   ],
   "source": [
    "print(np.sum(ocean_floor >= 2))"
   ]
  },
  {
   "cell_type": "markdown",
   "id": "f67694cc",
   "metadata": {},
   "source": [
    "## Part 2"
   ]
  },
  {
   "cell_type": "code",
   "execution_count": 71,
   "id": "b0407e6b",
   "metadata": {},
   "outputs": [],
   "source": [
    "for x_1, x_2, y_1, y_2 in zip(x_1s, x_2s, y_1s, y_2s):\n",
    "    \n",
    "    # diagonal lines\n",
    "    if abs(x_1-x_2) == abs(y_1-y_2):\n",
    "        \n",
    "        # make sure x_1 is the smaller x value, change y_1 correspondingly\n",
    "        \n",
    "        if x_1 > x_2:\n",
    "            x_1, x_2 = x_2, x_1\n",
    "            y_1, y_2 = y_2, y_1\n",
    "        \n",
    "        grad = (y_2 - y_1) / (x_2 - x_1)\n",
    "        num_points = abs(x_1-x_2)+1\n",
    "        \n",
    "        # grad = 1: x increases, y increases\n",
    "        if grad == 1:\n",
    "            for i in range(num_points):\n",
    "                ocean_floor[x_1+i][y_1+i] += 1\n",
    "                \n",
    "        # grad = -1: x increases, y decreases\n",
    "        else:\n",
    "            for i in range(num_points):\n",
    "                ocean_floor[x_1+i][y_1-i] += 1\n",
    "        "
   ]
  },
  {
   "cell_type": "code",
   "execution_count": 72,
   "id": "fed69430",
   "metadata": {},
   "outputs": [
    {
     "name": "stdout",
     "output_type": "stream",
     "text": [
      "17787\n"
     ]
    }
   ],
   "source": [
    "print(np.sum(ocean_floor >= 2))"
   ]
  }
 ],
 "metadata": {
  "kernelspec": {
   "display_name": "Python 3",
   "language": "python",
   "name": "python3"
  },
  "language_info": {
   "codemirror_mode": {
    "name": "ipython",
    "version": 3
   },
   "file_extension": ".py",
   "mimetype": "text/x-python",
   "name": "python",
   "nbconvert_exporter": "python",
   "pygments_lexer": "ipython3",
   "version": "3.8.8"
  }
 },
 "nbformat": 4,
 "nbformat_minor": 5
}
