{
 "cells": [
  {
   "cell_type": "code",
   "execution_count": 62,
   "id": "56db28c0",
   "metadata": {},
   "outputs": [],
   "source": [
    "file = open('input', 'r')\n",
    "file_str = file.read()\n",
    "lines = file_str.splitlines()"
   ]
  },
  {
   "cell_type": "markdown",
   "id": "db643e87",
   "metadata": {},
   "source": [
    "## Part 1"
   ]
  },
  {
   "cell_type": "code",
   "execution_count": 63,
   "id": "fcad6ffd",
   "metadata": {},
   "outputs": [
    {
     "name": "stdout",
     "output_type": "stream",
     "text": [
      "266301\n"
     ]
    }
   ],
   "source": [
    "def check_line(line):\n",
    "    stack = []\n",
    "    pairs = {'(': ')', \n",
    "             '[': ']', \n",
    "             '{': '}', \n",
    "             '<': '>'}\n",
    "    \n",
    "    points = {')': 3,\n",
    "             ']': 57,\n",
    "             '}': 1197,\n",
    "             '>': 25137}\n",
    "        \n",
    "    for char in line:\n",
    "        if char in pairs.keys():\n",
    "            stack.append(char)\n",
    "        \n",
    "        if char in pairs.values():\n",
    "            if pairs[stack[-1]] == char:\n",
    "                stack.pop()\n",
    "            else:\n",
    "                return points[char]\n",
    "    \n",
    "    return 0\n",
    "\n",
    "scores = [check_line(l) for l in lines]\n",
    "print(sum(scores))"
   ]
  },
  {
   "cell_type": "markdown",
   "id": "f67694cc",
   "metadata": {},
   "source": [
    "## Part 2"
   ]
  },
  {
   "cell_type": "code",
   "execution_count": 64,
   "id": "b0407e6b",
   "metadata": {},
   "outputs": [
    {
     "name": "stdout",
     "output_type": "stream",
     "text": [
      "3404870164\n"
     ]
    }
   ],
   "source": [
    "# remove corrupted lines\n",
    "lines = [l for i,l in enumerate(lines) if scores[i] == 0]\n",
    "\n",
    "def complete_line(line):\n",
    "    stack = []\n",
    "    pairs = {'(': ')', \n",
    "             '[': ']', \n",
    "             '{': '}', \n",
    "             '<': '>'}\n",
    "        \n",
    "    for char in line:\n",
    "        if char in pairs.keys():\n",
    "            stack.append(char)\n",
    "        else:\n",
    "            stack.pop()\n",
    "\n",
    "    closing_seq = [pairs[char] for char in stack]\n",
    "    closing_seq.reverse()\n",
    "    return closing_seq\n",
    "\n",
    "def score_seq(closing_seq):\n",
    "    scores = {')': 1,\n",
    "             ']': 2,\n",
    "             '}': 3,\n",
    "             '>': 4}\n",
    "    \n",
    "    score = 0\n",
    "    for char in closing_seq:\n",
    "        score *= 5\n",
    "        score += scores[char]\n",
    "    \n",
    "    return score\n",
    "\n",
    "closing_seqs = [complete_line(l) for l in lines]\n",
    "scores = [score_seq(cs) for cs in closing_seqs]\n",
    "scores.sort()\n",
    "print(scores[len(scores) // 2])"
   ]
  }
 ],
 "metadata": {
  "kernelspec": {
   "display_name": "Python 3",
   "language": "python",
   "name": "python3"
  },
  "language_info": {
   "codemirror_mode": {
    "name": "ipython",
    "version": 3
   },
   "file_extension": ".py",
   "mimetype": "text/x-python",
   "name": "python",
   "nbconvert_exporter": "python",
   "pygments_lexer": "ipython3",
   "version": "3.8.8"
  }
 },
 "nbformat": 4,
 "nbformat_minor": 5
}
