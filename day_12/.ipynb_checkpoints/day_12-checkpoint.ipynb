{
 "cells": [
  {
   "cell_type": "code",
   "execution_count": 191,
   "id": "56db28c0",
   "metadata": {},
   "outputs": [],
   "source": [
    "file = open('input', 'r')\n",
    "file_str = file.read()\n",
    "#file_str = 'start-A\\nstart-b\\nA-c\\nA-b\\nb-d\\nA-end\\nb-end'\n",
    "#file_str = 'dc-end\\nHN-start\\nstart-kj\\ndc-start\\ndc-HN\\nLN-dc\\nHN-end\\nkj-sa\\nkj-HN\\nkj-dc'\n",
    "lines = file_str.splitlines()"
   ]
  },
  {
   "cell_type": "markdown",
   "id": "db643e87",
   "metadata": {},
   "source": [
    "## Part 1"
   ]
  },
  {
   "cell_type": "code",
   "execution_count": 192,
   "id": "fcad6ffd",
   "metadata": {},
   "outputs": [
    {
     "name": "stdout",
     "output_type": "stream",
     "text": [
      "5920\n"
     ]
    }
   ],
   "source": [
    "from collections import defaultdict\n",
    "\n",
    "nodes = set([node for l in lines for node in l.split('-')])\n",
    "big_nodes = set([n for n in nodes if n.isupper()])\n",
    "small_nodes = set([n for n in nodes if n.islower()])\n",
    "\n",
    "pairs = [tuple(l.split('-')) for l in lines]\n",
    "links = defaultdict(list)\n",
    "\n",
    "for k,v in pairs:\n",
    "    if v != 'start':\n",
    "        links[k].append(v)\n",
    "    if k != 'start':\n",
    "        links[v].append(k)\n",
    "        \n",
    "def find_distinct_paths(links):\n",
    "    current = 'start'\n",
    "    path = []\n",
    "    visited = set(['start'])\n",
    "    distinct_paths = explore_nodes(current, path, visited, links, set())\n",
    "    print(len(distinct_paths))\n",
    "\n",
    "        \n",
    "def explore_nodes(current, path, visited, links, complete):\n",
    "    \n",
    "    next_nodes = [n for n in links[current] if n not in visited]\n",
    "    \n",
    "    # have I finished\n",
    "    if current == 'end':\n",
    "        return set([','.join(path + [current])])\n",
    "    \n",
    "    # is there nowhere to go next\n",
    "    elif len(next_nodes) == 0:\n",
    "        return set()\n",
    "    \n",
    "    # explore next options\n",
    "    else:\n",
    "        if current in small_nodes:\n",
    "            visited = visited.union({current})\n",
    "\n",
    "        for node in next_nodes:\n",
    "            complete = complete.union(explore_nodes(node, path + [current], visited, links, complete))\n",
    "\n",
    "        return complete\n",
    "    \n",
    "find_distinct_paths(links)"
   ]
  },
  {
   "cell_type": "markdown",
   "id": "f67694cc",
   "metadata": {},
   "source": [
    "## Part 2"
   ]
  },
  {
   "cell_type": "code",
   "execution_count": 195,
   "id": "b0407e6b",
   "metadata": {},
   "outputs": [
    {
     "name": "stdout",
     "output_type": "stream",
     "text": [
      "155477\n"
     ]
    }
   ],
   "source": [
    "# realised just need to count don't actually need the paths\n",
    "\n",
    "def count_paths(current, visited, revisited_node):\n",
    "    \n",
    "    # if finished, found 1 path\n",
    "    if current == 'end':\n",
    "        return 1\n",
    "    \n",
    "    # if returned to start, failed\n",
    "    if current == 'start' and current in visited:\n",
    "        return 0\n",
    "    \n",
    "    # if revisiting a small node\n",
    "    if current in small_nodes and current in visited:\n",
    "        \n",
    "        # if not used revisit, set the revisited node to this one\n",
    "        if revisited_node is None:\n",
    "            revisited_node = current\n",
    "        # otherwise failed\n",
    "        else:\n",
    "            return 0\n",
    "        \n",
    "    visited = visited.union({current})\n",
    "    \n",
    "    num_paths = 0\n",
    "    for next_node in links[current]:\n",
    "        num_paths += count_paths(next_node, visited, revisited_node)\n",
    "    \n",
    "    return num_paths\n",
    "        \n",
    "num_paths = count_paths('start', set(), None)\n",
    "print(num_paths)"
   ]
  },
  {
   "cell_type": "code",
   "execution_count": null,
   "id": "97fc76cc",
   "metadata": {},
   "outputs": [],
   "source": []
  }
 ],
 "metadata": {
  "kernelspec": {
   "display_name": "Python 3",
   "language": "python",
   "name": "python3"
  },
  "language_info": {
   "codemirror_mode": {
    "name": "ipython",
    "version": 3
   },
   "file_extension": ".py",
   "mimetype": "text/x-python",
   "name": "python",
   "nbconvert_exporter": "python",
   "pygments_lexer": "ipython3",
   "version": "3.8.8"
  }
 },
 "nbformat": 4,
 "nbformat_minor": 5
}
