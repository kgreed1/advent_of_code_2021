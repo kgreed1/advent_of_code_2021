{
 "cells": [
  {
   "cell_type": "code",
   "execution_count": 81,
   "id": "56db28c0",
   "metadata": {},
   "outputs": [],
   "source": [
    "file = open('input', 'r')\n",
    "file_str = file.read()\n",
    "\n",
    "#file_str = '2199943210\\n3987894921\\n9856789892\\n8767896789\\n9899965678'\n",
    "lines = file_str.splitlines()"
   ]
  },
  {
   "cell_type": "markdown",
   "id": "db643e87",
   "metadata": {},
   "source": [
    "## Part 1"
   ]
  },
  {
   "cell_type": "code",
   "execution_count": 82,
   "id": "fcad6ffd",
   "metadata": {},
   "outputs": [
    {
     "name": "stdout",
     "output_type": "stream",
     "text": [
      "452\n"
     ]
    }
   ],
   "source": [
    "import numpy as np\n",
    "\n",
    "nums = [[int(char) for char in line] for line in lines]\n",
    "floor = np.array(nums)\n",
    "\n",
    "def find_low_points(floor):\n",
    "    num_rows, num_cols = floor.shape\n",
    "\n",
    "    low_points = []\n",
    "\n",
    "    for i in range(num_rows):\n",
    "        for j in range(num_cols):\n",
    "            point = floor[i][j]\n",
    "            adjacents = []\n",
    "\n",
    "            # get upper adjacent\n",
    "            if i > 0:\n",
    "                adjacents.append(floor[i-1][j])\n",
    "\n",
    "            # get right adjacent\n",
    "            if j < num_cols - 1:\n",
    "                adjacents.append(floor[i][j+1])\n",
    "\n",
    "            # get down adjacent\n",
    "            if i < num_rows - 1:\n",
    "                adjacents.append(floor[i+1][j])\n",
    "\n",
    "            # get left adjacent\n",
    "            if j > 0:\n",
    "                adjacents.append(floor[i][j-1])\n",
    "\n",
    "            is_low_point = all(point < adjacents)\n",
    "\n",
    "            if is_low_point:\n",
    "                low_points.append((i,j))\n",
    "                \n",
    "    return low_points\n",
    "\n",
    "low_points = find_low_points(floor)\n",
    "risk_sum = np.sum([floor[lp] + 1 for lp in low_points])\n",
    "            \n",
    "print(risk_sum)"
   ]
  },
  {
   "cell_type": "markdown",
   "id": "f67694cc",
   "metadata": {},
   "source": [
    "## Part 2"
   ]
  },
  {
   "cell_type": "code",
   "execution_count": 83,
   "id": "b0407e6b",
   "metadata": {},
   "outputs": [],
   "source": [
    "def explore_basin(lp, floor):\n",
    "    basin = explore_point(lp, floor, set())\n",
    "    return len(basin)\n",
    "\n",
    "def explore_point(point, floor, explored):\n",
    "    explored.add(point)\n",
    "    \n",
    "    num_rows, num_cols = floor.shape\n",
    "    i,j = point\n",
    "\n",
    "    # get upper adjacent\n",
    "    if i > 0:\n",
    "        u = (i-1,j)\n",
    "        upper_adj = floor[u]\n",
    "        if u not in explored and upper_adj > floor[point] and upper_adj < 9:\n",
    "            explored_upper = explore_point(u, floor, explored)\n",
    "            explored = explored.union(explored_upper)\n",
    "\n",
    "    # get right adjacent\n",
    "    if j < num_cols - 1:\n",
    "        r = (i,j+1)\n",
    "        right_adj = floor[r]\n",
    "        if r not in explored and right_adj > floor[point] and right_adj < 9:\n",
    "            explored_right = explore_point(r, floor, explored)\n",
    "            explored = explored.union(explored_right)\n",
    "\n",
    "    # get down adjacent\n",
    "    if i < num_rows - 1:\n",
    "        d = (i+1,j)\n",
    "        down_adj = floor[d]\n",
    "        if d not in explored and down_adj > floor[point] and down_adj < 9:\n",
    "            explored_down = explore_point(d, floor, explored)\n",
    "            explored = explored.union(explored_down)\n",
    "            \n",
    "    # get left adjacent\n",
    "    if j > 0:\n",
    "        l = (i,j-1)\n",
    "        left_adj = floor[l]\n",
    "        if l not in explored and left_adj > floor[point] and left_adj < 9:\n",
    "            explored_left = explore_point(l, floor, explored)\n",
    "            explored = explored.union(explored_left)\n",
    "    \n",
    "    return explored"
   ]
  },
  {
   "cell_type": "code",
   "execution_count": 84,
   "id": "f1335f32",
   "metadata": {},
   "outputs": [
    {
     "name": "stdout",
     "output_type": "stream",
     "text": [
      "1263735\n"
     ]
    }
   ],
   "source": [
    "basin_sizes = sorted([explore_basin(lp, floor) for lp in low_points], reverse=True)\n",
    "top_three = basin_sizes[:3]\n",
    "print(top_three[0] * top_three[1] * top_three[2])"
   ]
  }
 ],
 "metadata": {
  "kernelspec": {
   "display_name": "Python 3",
   "language": "python",
   "name": "python3"
  },
  "language_info": {
   "codemirror_mode": {
    "name": "ipython",
    "version": 3
   },
   "file_extension": ".py",
   "mimetype": "text/x-python",
   "name": "python",
   "nbconvert_exporter": "python",
   "pygments_lexer": "ipython3",
   "version": "3.8.8"
  }
 },
 "nbformat": 4,
 "nbformat_minor": 5
}
