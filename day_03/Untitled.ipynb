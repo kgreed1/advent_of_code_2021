{
 "cells": [
  {
   "cell_type": "code",
   "execution_count": 1,
   "id": "a8228c44",
   "metadata": {},
   "outputs": [],
   "source": [
    "file = open('input', 'r')\n",
    "lines = file.read().splitlines()"
   ]
  },
  {
   "cell_type": "markdown",
   "id": "329acc5f",
   "metadata": {},
   "source": [
    "## Part 1"
   ]
  },
  {
   "cell_type": "code",
   "execution_count": 12,
   "id": "329087c1",
   "metadata": {},
   "outputs": [],
   "source": [
    "# represent the report as a 2D numpy array\n",
    "\n",
    "report = np.array([list(map(int, line.strip())) for line in lines])\n",
    "num_rows, num_cols = np.shape(report)"
   ]
  },
  {
   "cell_type": "code",
   "execution_count": 45,
   "id": "f044db5a",
   "metadata": {},
   "outputs": [],
   "source": [
    "# find most common bit in each column by summing - if sum > num_rows/2 then there are more 1s than 0s\n",
    "\n",
    "column_sums = np.sum(report, axis=0)\n",
    "most_common_bits = (column_sums > num_rows / 2).astype(int)\n",
    "least_common_bits = -(most_common_bits - 1)"
   ]
  },
  {
   "cell_type": "code",
   "execution_count": 46,
   "id": "f825ec33",
   "metadata": {},
   "outputs": [],
   "source": [
    "# define a function to convert a binary number represented as a list of ones and zeros into a decimal\n",
    "\n",
    "def convert_binary_list_to_decimal(binary_list):\n",
    "    decimal = 0\n",
    "    for place, value in enumerate(reversed(binary_list)):\n",
    "        decimal += 2**place * value\n",
    "    return decimal"
   ]
  },
  {
   "cell_type": "code",
   "execution_count": 47,
   "id": "6ff4c6c5",
   "metadata": {},
   "outputs": [
    {
     "name": "stdout",
     "output_type": "stream",
     "text": [
      "2261546\n"
     ]
    }
   ],
   "source": [
    "gamma_rate = convert_binary_list_to_decimal(list(most_common_bits))\n",
    "epsilon_rate = convert_binary_list_to_decimal(list(least_common_bits))\n",
    "\n",
    "print(gamma_rate * epsilon_rate)"
   ]
  },
  {
   "cell_type": "markdown",
   "id": "8fce94b0",
   "metadata": {},
   "source": [
    "## Part 2"
   ]
  },
  {
   "cell_type": "code",
   "execution_count": 102,
   "id": "97ca59bc",
   "metadata": {},
   "outputs": [],
   "source": [
    "def find_rating(report, most_common):\n",
    "    \n",
    "    num_rows, num_cols = report.shape\n",
    "    \n",
    "    for col in range(num_cols):\n",
    "        num_rows = report.shape[0]\n",
    "        \n",
    "        if num_rows == 1:\n",
    "            break           \n",
    "        else:\n",
    "            column_sums = np.sum(report, axis=0)\n",
    "            most_common_bits = (column_sums >= num_rows / 2).astype(int)\n",
    "            bit_of_interest = most_common_bits[col]\n",
    "            \n",
    "            if not most_common:\n",
    "                bit_of_interest = -(bit_of_interest - 1)\n",
    "                \n",
    "            rows_to_keep = report[:, col] == bit_of_interest\n",
    "            report = report[rows_to_keep, :]\n",
    "            \n",
    "    report = list(report.flatten())\n",
    "    decimal_rating = convert_binary_list_to_decimal(report)\n",
    "    return decimal_rating"
   ]
  },
  {
   "cell_type": "code",
   "execution_count": 103,
   "id": "1452c814",
   "metadata": {},
   "outputs": [
    {
     "name": "stdout",
     "output_type": "stream",
     "text": [
      "6775520\n"
     ]
    }
   ],
   "source": [
    "o2_rating = find_rating(report, True)\n",
    "co2_rating = find_rating(report, False)\n",
    "\n",
    "print(o2_rating * co2_rating)"
   ]
  }
 ],
 "metadata": {
  "kernelspec": {
   "display_name": "Python 3",
   "language": "python",
   "name": "python3"
  },
  "language_info": {
   "codemirror_mode": {
    "name": "ipython",
    "version": 3
   },
   "file_extension": ".py",
   "mimetype": "text/x-python",
   "name": "python",
   "nbconvert_exporter": "python",
   "pygments_lexer": "ipython3",
   "version": "3.8.8"
  }
 },
 "nbformat": 4,
 "nbformat_minor": 5
}
