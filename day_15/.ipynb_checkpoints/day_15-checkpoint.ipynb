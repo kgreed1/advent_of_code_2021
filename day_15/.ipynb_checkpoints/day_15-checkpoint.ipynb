{
 "cells": [
  {
   "cell_type": "code",
   "execution_count": 126,
   "id": "56db28c0",
   "metadata": {},
   "outputs": [],
   "source": [
    "file = open('input', 'r')\n",
    "file_str = file.read()\n",
    "lines = file_str.splitlines()"
   ]
  },
  {
   "cell_type": "markdown",
   "id": "db643e87",
   "metadata": {},
   "source": [
    "## Part 1"
   ]
  },
  {
   "cell_type": "code",
   "execution_count": 127,
   "id": "fcad6ffd",
   "metadata": {},
   "outputs": [
    {
     "data": {
      "text/plain": [
       "508"
      ]
     },
     "execution_count": 127,
     "metadata": {},
     "output_type": "execute_result"
    }
   ],
   "source": [
    "import numpy as np\n",
    "import math\n",
    "from heapq import heappop, heappush\n",
    "\n",
    "lines = [[int(n) for n in l] for l in lines]\n",
    "\n",
    "a = np.array(lines)\n",
    "\n",
    "\n",
    "def make_graph(a):\n",
    "    n_rows, n_cols = a.shape\n",
    "    graph = {}\n",
    "    for i in range(n_rows):\n",
    "        for j in range(n_cols):\n",
    "            neighbours = [(i-1,j), (i+1,j), (i,j-1), (i,j+1)]\n",
    "            neighbours = [(i,j) for (i,j) in neighbours if (0 <=i< n_rows and 0<=j<n_cols)]\n",
    "            costs = [a[i,j] for i,j in neighbours]      \n",
    "            graph[(i,j)] = {n:c for n,c in zip(neighbours, costs)}\n",
    "    return graph\n",
    "      \n",
    "def dijkstra(graph, source, target):\n",
    "    dist = {}\n",
    "    queue = [(0, (0,0))]\n",
    "    dist[source] = 0\n",
    "    for node in graph.keys():\n",
    "        if node != source:\n",
    "            dist[node] = math.inf\n",
    "        heappush(queue, (dist[node], node))\n",
    "    \n",
    "    while queue:\n",
    "        dist_v, v = heappop(queue)\n",
    "        \n",
    "        if v == target:\n",
    "            return dist_v\n",
    "        \n",
    "        for neighbour, cost in graph[v].items():\n",
    "            alt = dist_v + cost\n",
    "            if alt < dist[neighbour]:\n",
    "                dist[neighbour] = alt\n",
    "                heappush(queue, (alt, neighbour))\n",
    "\n",
    "graph = make_graph(a)\n",
    "dijkstra(graph, (0,0), (a.shape[0]-1, a.shape[1]-1))"
   ]
  },
  {
   "cell_type": "markdown",
   "id": "f67694cc",
   "metadata": {},
   "source": [
    "## Part 2"
   ]
  },
  {
   "cell_type": "code",
   "execution_count": 128,
   "id": "b0407e6b",
   "metadata": {},
   "outputs": [],
   "source": [
    "b = np.copy(a)\n",
    "\n",
    "for i in range(5):\n",
    "    for j in range(5):\n",
    "        if j == 0:\n",
    "            row = a\n",
    "            block = a\n",
    "            for r in range(i):\n",
    "                row = row % 9 + 1\n",
    "                block = row\n",
    "        else:\n",
    "            block = block % 9 + 1\n",
    "            row = np.hstack((row, block))\n",
    "    \n",
    "    if i == 0:\n",
    "        b = row\n",
    "    else:\n",
    "        b = np.vstack((b, row))"
   ]
  },
  {
   "cell_type": "code",
   "execution_count": 129,
   "id": "97fc76cc",
   "metadata": {},
   "outputs": [
    {
     "data": {
      "text/plain": [
       "2872"
      ]
     },
     "execution_count": 129,
     "metadata": {},
     "output_type": "execute_result"
    }
   ],
   "source": [
    "graph = make_graph(b)\n",
    "dijkstra(graph, (0,0), (b.shape[0]-1, b.shape[1]-1))"
   ]
  }
 ],
 "metadata": {
  "kernelspec": {
   "display_name": "Python 3",
   "language": "python",
   "name": "python3"
  },
  "language_info": {
   "codemirror_mode": {
    "name": "ipython",
    "version": 3
   },
   "file_extension": ".py",
   "mimetype": "text/x-python",
   "name": "python",
   "nbconvert_exporter": "python",
   "pygments_lexer": "ipython3",
   "version": "3.8.8"
  }
 },
 "nbformat": 4,
 "nbformat_minor": 5
}
