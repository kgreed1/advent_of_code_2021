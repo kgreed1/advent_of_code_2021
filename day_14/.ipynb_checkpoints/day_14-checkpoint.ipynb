{
 "cells": [
  {
   "cell_type": "code",
   "execution_count": 115,
   "id": "56db28c0",
   "metadata": {},
   "outputs": [],
   "source": [
    "file = open('input', 'r')\n",
    "file_str = file.read()\n",
    "lines = file_str.splitlines()"
   ]
  },
  {
   "cell_type": "markdown",
   "id": "db643e87",
   "metadata": {},
   "source": [
    "## Part 1"
   ]
  },
  {
   "cell_type": "code",
   "execution_count": 118,
   "id": "fcad6ffd",
   "metadata": {},
   "outputs": [
    {
     "name": "stdout",
     "output_type": "stream",
     "text": [
      "2745\n"
     ]
    }
   ],
   "source": [
    "from collections import Counter\n",
    "\n",
    "string = lines[0]\n",
    "rules = lines[2:]\n",
    "rules = [r.split(' -> ') for r in rules]\n",
    "rules = {r[0]: [r[0][0] + r[1], r[1] + r[0][1]] for r in rules}\n",
    "\n",
    "def polymer(string, rules, steps):\n",
    "    \n",
    "    # initialise counts of each string pair\n",
    "    string_pairs = Counter({k:0 for k in rules.keys()})\n",
    "    for i in range(len(string) - 1):\n",
    "        string_pairs[string[i:i+2]] += 1\n",
    "        \n",
    "    for i in range(steps):\n",
    "        new_counts = Counter()\n",
    "        for pair, num in string_pairs.items():\n",
    "            #replace each appearance in string with two new pairs\n",
    "            string_pairs[pair] -= num\n",
    "            for np in rules[pair]:\n",
    "                new_counts[np] += num\n",
    "        string_pairs += new_counts\n",
    "    return string_pairs\n",
    "\n",
    "def count_characters(string_pairs):\n",
    "    characters = set(''.join(list(string_pairs.keys())))\n",
    "    character_counts = Counter({c:0 for c in characters})\n",
    "\n",
    "    # pairs overlap so this will be a double count\n",
    "    for pair, count in string_pairs.items():\n",
    "        for char in pair:\n",
    "            character_counts[char] += count\n",
    "\n",
    "    # double counted every element except first and last - double count these too\n",
    "    character_counts[string[0]] += 1\n",
    "    character_counts[string[-1]] += 1\n",
    "    \n",
    "    # halve counts\n",
    "    for char in character_counts.keys():\n",
    "        character_counts[char] //= 2\n",
    "    \n",
    "    return character_counts\n",
    "\n",
    "final_string_pairs = polymer(string, rules, 10)\n",
    "character_counts = count_characters(final_string_pairs)\n",
    "\n",
    "mc = character_counts.most_common()[0]\n",
    "lc = character_counts.most_common()[-1]\n",
    "print(mc[1] - lc[1])"
   ]
  },
  {
   "cell_type": "markdown",
   "id": "f67694cc",
   "metadata": {},
   "source": [
    "## Part 2"
   ]
  },
  {
   "cell_type": "code",
   "execution_count": 119,
   "id": "b0407e6b",
   "metadata": {},
   "outputs": [
    {
     "name": "stdout",
     "output_type": "stream",
     "text": [
      "3420801168962\n"
     ]
    }
   ],
   "source": [
    "final_string_pairs = polymer(string, rules, 40)\n",
    "character_counts = count_characters(final_string_pairs)\n",
    "\n",
    "mc = character_counts.most_common()[0]\n",
    "lc = character_counts.most_common()[-1]\n",
    "print(mc[1] - lc[1])"
   ]
  }
 ],
 "metadata": {
  "kernelspec": {
   "display_name": "Python 3",
   "language": "python",
   "name": "python3"
  },
  "language_info": {
   "codemirror_mode": {
    "name": "ipython",
    "version": 3
   },
   "file_extension": ".py",
   "mimetype": "text/x-python",
   "name": "python",
   "nbconvert_exporter": "python",
   "pygments_lexer": "ipython3",
   "version": "3.8.8"
  }
 },
 "nbformat": 4,
 "nbformat_minor": 5
}
