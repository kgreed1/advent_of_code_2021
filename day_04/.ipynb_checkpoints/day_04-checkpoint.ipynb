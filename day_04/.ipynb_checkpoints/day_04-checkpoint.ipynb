{
 "cells": [
  {
   "cell_type": "code",
   "execution_count": 98,
   "id": "62338364",
   "metadata": {},
   "outputs": [],
   "source": [
    "file = open('input', 'r')\n",
    "file_str = file.read()\n",
    "lines = file_str.splitlines()"
   ]
  },
  {
   "cell_type": "markdown",
   "id": "48db88fd",
   "metadata": {},
   "source": [
    "## Part 1"
   ]
  },
  {
   "cell_type": "code",
   "execution_count": 136,
   "id": "0b028a74",
   "metadata": {},
   "outputs": [],
   "source": [
    "import numpy as np\n",
    "\n",
    "numbers = np.array(lines[0].split(',')).astype(int)\n",
    "\n",
    "boards = file_str.split('\\n\\n')[1:]\n",
    "boards = [board.split() for board in boards]\n",
    "boards = [np.array(board, dtype=int) for board in boards]\n",
    "boards = [np.reshape(board, (5,5)) for board in boards]"
   ]
  },
  {
   "cell_type": "code",
   "execution_count": 113,
   "id": "a2543c81",
   "metadata": {},
   "outputs": [],
   "source": [
    "def check_bingo_board(bingo_board, drawn_numbers):\n",
    "    \n",
    "    for row in bingo_board:\n",
    "        # check if all elements of the row have been drawn\n",
    "        if np.all(np.in1d(row, drawn_numbers)):\n",
    "            return True\n",
    "    \n",
    "    for column in bingo_board.T:\n",
    "        if np.all(np.in1d(column, drawn_numbers)):\n",
    "            return True\n",
    "    \n",
    "    return False"
   ]
  },
  {
   "cell_type": "code",
   "execution_count": 126,
   "id": "9ee622a5",
   "metadata": {},
   "outputs": [],
   "source": [
    "def find_winner(boards, numbers):\n",
    "    drawn_numbers = []\n",
    "\n",
    "    for num_idx in range(len(numbers)):\n",
    "        drawn_numbers.append(numbers[num_idx])\n",
    "\n",
    "        for i, board in enumerate(boards):\n",
    "            if check_bingo_board(board, drawn_numbers):\n",
    "                return i, drawn_numbers\n",
    "            \n",
    "def board_score(board, drawn_numbers):\n",
    "    board_numbers = list(board.flatten())\n",
    "    unmarked_numbers = [n for n in board_numbers if n not in drawn_numbers]\n",
    "    board_sum = sum(unmarked_numbers)\n",
    "    final_num = drawn_numbers[-1]\n",
    "    return board_sum * final_num"
   ]
  },
  {
   "cell_type": "code",
   "execution_count": 127,
   "id": "1655640f",
   "metadata": {},
   "outputs": [
    {
     "name": "stdout",
     "output_type": "stream",
     "text": [
      "38594\n"
     ]
    }
   ],
   "source": [
    "winner_idx, drawn_numbers = find_winner(boards, numbers)\n",
    "score = board_score(boards[winner_idx], drawn_numbers)\n",
    "print(score)"
   ]
  },
  {
   "cell_type": "markdown",
   "id": "c59a5750",
   "metadata": {},
   "source": [
    "## Part 2"
   ]
  },
  {
   "cell_type": "code",
   "execution_count": 141,
   "id": "b6164856",
   "metadata": {},
   "outputs": [],
   "source": [
    "def find_loser(boards, numbers):\n",
    "    drawn_numbers = []\n",
    "\n",
    "    for num_idx in range(len(numbers)):\n",
    "        drawn_numbers.append(numbers[num_idx])\n",
    "        \n",
    "        # remove winning boards\n",
    "        if len(boards) == 1:\n",
    "            return boards[0], drawn_numbers\n",
    "        \n",
    "        boards = [board for board in boards if not check_bingo_board(board, drawn_numbers)]"
   ]
  },
  {
   "cell_type": "code",
   "execution_count": 142,
   "id": "05b8a199",
   "metadata": {},
   "outputs": [
    {
     "name": "stdout",
     "output_type": "stream",
     "text": [
      "21184\n"
     ]
    }
   ],
   "source": [
    "losing_board, drawn_numbers = find_loser(boards, numbers)\n",
    "score = board_score(losing_board, drawn_numbers)\n",
    "print(score)"
   ]
  },
  {
   "cell_type": "code",
   "execution_count": null,
   "id": "73b0c80a",
   "metadata": {},
   "outputs": [],
   "source": []
  }
 ],
 "metadata": {
  "kernelspec": {
   "display_name": "Python 3",
   "language": "python",
   "name": "python3"
  },
  "language_info": {
   "codemirror_mode": {
    "name": "ipython",
    "version": 3
   },
   "file_extension": ".py",
   "mimetype": "text/x-python",
   "name": "python",
   "nbconvert_exporter": "python",
   "pygments_lexer": "ipython3",
   "version": "3.8.8"
  }
 },
 "nbformat": 4,
 "nbformat_minor": 5
}
