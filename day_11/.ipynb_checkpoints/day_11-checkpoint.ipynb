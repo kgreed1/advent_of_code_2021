{
 "cells": [
  {
   "cell_type": "code",
   "execution_count": 126,
   "id": "56db28c0",
   "metadata": {},
   "outputs": [],
   "source": [
    "file = open('input', 'r')\n",
    "file_str = file.read()\n",
    "lines = file_str.splitlines()"
   ]
  },
  {
   "cell_type": "markdown",
   "id": "db643e87",
   "metadata": {},
   "source": [
    "## Part 1"
   ]
  },
  {
   "cell_type": "code",
   "execution_count": 127,
   "id": "fcad6ffd",
   "metadata": {},
   "outputs": [
    {
     "name": "stdout",
     "output_type": "stream",
     "text": [
      "1652\n"
     ]
    }
   ],
   "source": [
    "import numpy as np\n",
    "\n",
    "grid = [[int(char) for char in line] for line in lines]\n",
    "grid = np.array(grid, dtype=int)\n",
    "num_rows, num_cols = grid.shape\n",
    "\n",
    "    \n",
    "def grid_step(grid):\n",
    "    \n",
    "    grid += 1\n",
    "    flashed = np.zeros(grid.shape, dtype=bool)\n",
    "\n",
    "    while not np.array_equal(grid > 9, flashed):\n",
    "        overlay = np.zeros(grid.shape, dtype=int)\n",
    "        \n",
    "        for r in range(num_rows):\n",
    "            for c in range(num_cols):\n",
    "                flashed_this_step = flashed[r][c]\n",
    "                \n",
    "                if grid[r][c] > 9 and not flashed_this_step:\n",
    "                    overlay += flash_octopus(grid, (r,c))\n",
    "                    flashed[r][c] = True\n",
    "        \n",
    "        grid += overlay\n",
    "            \n",
    "    num_flashes = np.sum(flashed)\n",
    "    grid = np.where(flashed == True, 0, grid)\n",
    "                \n",
    "    return grid, num_flashes\n",
    "\n",
    "\n",
    "def flash_octopus(grid, location):\n",
    "    \n",
    "    r,c = location\n",
    "    overlay = np.zeros(grid.shape, dtype=int)\n",
    "    min_r, max_r = max(0, r-1), min(grid.shape[0], r+2)\n",
    "    min_c ,max_c = max(0, c-1), min(grid.shape[1], c+2)\n",
    "    overlay[min_r:max_r, min_c:max_c] = 1\n",
    "    \n",
    "    return overlay\n",
    "\n",
    "\n",
    "num_flashes = 0\n",
    "for i in range(100):\n",
    "    grid, f = grid_step(grid)\n",
    "    num_flashes += f\n",
    "    \n",
    "print(num_flashes)"
   ]
  },
  {
   "cell_type": "markdown",
   "id": "f67694cc",
   "metadata": {},
   "source": [
    "## Part 2"
   ]
  },
  {
   "cell_type": "code",
   "execution_count": 128,
   "id": "b0407e6b",
   "metadata": {},
   "outputs": [
    {
     "name": "stdout",
     "output_type": "stream",
     "text": [
      "220\n"
     ]
    }
   ],
   "source": [
    "grid = [[int(char) for char in line] for line in lines]\n",
    "grid = np.array(grid)\n",
    "\n",
    "i = 0\n",
    "while True:\n",
    "    i += 1\n",
    "    grid, f = grid_step(grid)\n",
    "    if f == num_rows * num_cols:\n",
    "        print(i)\n",
    "        break"
   ]
  }
 ],
 "metadata": {
  "kernelspec": {
   "display_name": "Python 3",
   "language": "python",
   "name": "python3"
  },
  "language_info": {
   "codemirror_mode": {
    "name": "ipython",
    "version": 3
   },
   "file_extension": ".py",
   "mimetype": "text/x-python",
   "name": "python",
   "nbconvert_exporter": "python",
   "pygments_lexer": "ipython3",
   "version": "3.8.8"
  }
 },
 "nbformat": 4,
 "nbformat_minor": 5
}
