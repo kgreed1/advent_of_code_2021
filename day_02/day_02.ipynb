{
 "cells": [
  {
   "cell_type": "code",
   "execution_count": 12,
   "id": "1a56607b",
   "metadata": {},
   "outputs": [],
   "source": [
    "file = open('input', 'r')\n",
    "lines = file.read().splitlines()"
   ]
  },
  {
   "cell_type": "markdown",
   "id": "5ea45289",
   "metadata": {},
   "source": [
    "## Part 1"
   ]
  },
  {
   "cell_type": "code",
   "execution_count": 15,
   "id": "bc2b7011",
   "metadata": {},
   "outputs": [
    {
     "name": "stdout",
     "output_type": "stream",
     "text": [
      "1728414\n"
     ]
    }
   ],
   "source": [
    "depth = 0\n",
    "horiz = 0\n",
    "\n",
    "for line in lines:\n",
    "    direction, magnitude = line.split()\n",
    "    magnitude = int(magnitude)\n",
    "    \n",
    "    if direction == 'forward':\n",
    "        horiz += magnitude\n",
    "    elif direction == 'down':\n",
    "        depth += magnitude\n",
    "    elif direction == 'up':\n",
    "        depth -= magnitude\n",
    "    else:\n",
    "        raise ValueError('Invalid direction: {}'.format(direction))\n",
    "    \n",
    "print(depth * horiz)"
   ]
  },
  {
   "cell_type": "markdown",
   "id": "1420272d",
   "metadata": {},
   "source": [
    "## Part 2"
   ]
  },
  {
   "cell_type": "code",
   "execution_count": 16,
   "id": "63c01472",
   "metadata": {},
   "outputs": [
    {
     "name": "stdout",
     "output_type": "stream",
     "text": [
      "1765720035\n"
     ]
    }
   ],
   "source": [
    "depth = 0\n",
    "horiz = 0\n",
    "aim   = 0\n",
    "\n",
    "for line in lines:\n",
    "    direction, magnitude = line.split()\n",
    "    magnitude = int(magnitude)\n",
    "    \n",
    "    if direction == 'forward':\n",
    "        horiz += magnitude\n",
    "        depth += aim * magnitude\n",
    "        \n",
    "    elif direction == 'down':\n",
    "        aim += magnitude\n",
    "        \n",
    "    elif direction == 'up':\n",
    "        aim -= magnitude\n",
    "        \n",
    "    else:\n",
    "        raise ValueError('Invalid direction: {}'.format(direction))\n",
    "    \n",
    "print(depth * horiz)"
   ]
  }
 ],
 "metadata": {
  "kernelspec": {
   "display_name": "Python 3",
   "language": "python",
   "name": "python3"
  },
  "language_info": {
   "codemirror_mode": {
    "name": "ipython",
    "version": 3
   },
   "file_extension": ".py",
   "mimetype": "text/x-python",
   "name": "python",
   "nbconvert_exporter": "python",
   "pygments_lexer": "ipython3",
   "version": "3.8.8"
  }
 },
 "nbformat": 4,
 "nbformat_minor": 5
}
