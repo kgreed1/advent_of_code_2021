{
 "cells": [
  {
   "cell_type": "code",
   "execution_count": 104,
   "id": "56db28c0",
   "metadata": {},
   "outputs": [],
   "source": [
    "file = open('input', 'r')\n",
    "file_str = file.read()"
   ]
  },
  {
   "cell_type": "markdown",
   "id": "db643e87",
   "metadata": {},
   "source": [
    "## Part 1"
   ]
  },
  {
   "cell_type": "code",
   "execution_count": 123,
   "id": "fcad6ffd",
   "metadata": {},
   "outputs": [],
   "source": [
    "lines = file_str.splitlines()\n",
    "lines = [l.split('|') for l in lines]\n",
    "inputs = [l[0].strip().split() for l in lines]\n",
    "outputs = [l[1].strip().split() for l in lines]"
   ]
  },
  {
   "cell_type": "code",
   "execution_count": 124,
   "id": "1567c527",
   "metadata": {},
   "outputs": [
    {
     "name": "stdout",
     "output_type": "stream",
     "text": [
      "504\n"
     ]
    }
   ],
   "source": [
    "count = 0\n",
    "\n",
    "for signal in outputs:\n",
    "    for digit in signal:\n",
    "        num_segments = len(digit)\n",
    "        if num_segments in [2, 4, 3, 7]:\n",
    "            count += 1\n",
    "\n",
    "print(count)"
   ]
  },
  {
   "cell_type": "markdown",
   "id": "f67694cc",
   "metadata": {},
   "source": [
    "## Part 2"
   ]
  },
  {
   "cell_type": "code",
   "execution_count": 127,
   "id": "b0407e6b",
   "metadata": {},
   "outputs": [
    {
     "name": "stdout",
     "output_type": "stream",
     "text": [
      "1073431\n"
     ]
    }
   ],
   "source": [
    "def split(word):\n",
    "    return [char for char in word]\n",
    "\n",
    "def decode_inputs(inputs):\n",
    "    lengths = [len(i) for i in inputs]\n",
    "    one = inputs[lengths.index(2)]\n",
    "    four = inputs[lengths.index(4)]\n",
    "    seven = inputs[lengths.index(3)]\n",
    "    eight = inputs[lengths.index(7)]\n",
    "    \n",
    "    cf = set(split(one))\n",
    "    bcdf = set(split(four))\n",
    "    acf = set(split(seven))\n",
    "    abcdefg = set(split(eight))\n",
    "    \n",
    "    \n",
    "    # a: acf - cf\n",
    "    a = list(acf.difference(cf))[0]\n",
    "    \n",
    "    # identify 0, 6 and 9\n",
    "    zero_six_nine = [inputs[i] for i,x in enumerate(lengths) if x == 6]\n",
    "    \n",
    "    # dce is missing segment from 0,6,9\n",
    "    dce = set([list(abcdefg.difference(n))[0] for n in zero_six_nine])\n",
    "    \n",
    "    # c: dce intersection cf\n",
    "    c = list(dce.intersection(cf))[0]\n",
    "    \n",
    "    # d: intersection between bdf and dce\n",
    "    d = list(dce.intersection(bcdf.difference(c)))[0]\n",
    "    \n",
    "    # e: dce - cd\n",
    "    e = list(dce.difference([c,d]))[0]\n",
    "\n",
    "    # f: acf - ac\n",
    "    f = list(acf.difference([a,c]))[0]\n",
    "\n",
    "    # b: bcdf - cdf\n",
    "    b = list(bcdf.difference([c,d,f]))[0]\n",
    "    \n",
    "    #\n",
    "    g = list(abcdefg.difference([a,b,c,d,e,f]))[0]\n",
    "    \n",
    "    return {a: 'a', b: 'b', c: 'c', d: 'd', e: 'e', f: 'f', g: 'g'}\n",
    "    \n",
    "def decode_outputs(outputs, decoded_inputs):\n",
    "    seven_segment = {'abcefg': 0,\n",
    "                    'cf': 1,\n",
    "                    'acdeg': 2,\n",
    "                    'acdfg': 3,\n",
    "                    'bcdf': 4,\n",
    "                    'abdfg': 5,\n",
    "                    'abdefg': 6,\n",
    "                    'acf': 7,\n",
    "                    'abcdefg': 8,\n",
    "                    'abcdfg': 9}\n",
    "    \n",
    "    total = ''\n",
    "    for num in outputs:\n",
    "        decoded_input = ''.join([decoded_inputs[char] for char in num])\n",
    "        input_code = ''.join(sorted(decoded_input))\n",
    "        value = str(seven_segment[input_code])\n",
    "        total += value\n",
    "        \n",
    "    return int(total)\n",
    "        \n",
    "\n",
    "total = 0\n",
    "for i, o in zip(inputs, outputs):\n",
    "    decoded_inputs = decode_inputs(i)\n",
    "    total += decode_outputs(o, decoded_inputs)\n",
    "    \n",
    "print(total)"
   ]
  },
  {
   "cell_type": "code",
   "execution_count": null,
   "id": "f1335f32",
   "metadata": {},
   "outputs": [],
   "source": []
  }
 ],
 "metadata": {
  "kernelspec": {
   "display_name": "Python 3",
   "language": "python",
   "name": "python3"
  },
  "language_info": {
   "codemirror_mode": {
    "name": "ipython",
    "version": 3
   },
   "file_extension": ".py",
   "mimetype": "text/x-python",
   "name": "python",
   "nbconvert_exporter": "python",
   "pygments_lexer": "ipython3",
   "version": "3.8.8"
  }
 },
 "nbformat": 4,
 "nbformat_minor": 5
}
