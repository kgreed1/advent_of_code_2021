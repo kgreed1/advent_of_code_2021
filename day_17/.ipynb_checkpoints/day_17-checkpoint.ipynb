{
 "cells": [
  {
   "cell_type": "code",
   "execution_count": 25,
   "id": "84bf6809",
   "metadata": {},
   "outputs": [
    {
     "data": {
      "text/plain": [
       "'target area: x=155..215, y=-132..-72\\n'"
      ]
     },
     "execution_count": 25,
     "metadata": {},
     "output_type": "execute_result"
    }
   ],
   "source": [
    "file = open('input', 'r')\n",
    "file_str = file.read()\n",
    "file_str"
   ]
  },
  {
   "cell_type": "markdown",
   "id": "46128530",
   "metadata": {},
   "source": [
    "## Part 1"
   ]
  },
  {
   "cell_type": "code",
   "execution_count": 78,
   "id": "19609166",
   "metadata": {},
   "outputs": [],
   "source": [
    "import re\n",
    "\n",
    "t = re.findall(r'-?[0-9]+', file_str)\n",
    "t = [int(n) for n in t]\n",
    "t = ((t[0], t[1]), (t[2], t[3]))"
   ]
  },
  {
   "cell_type": "code",
   "execution_count": 82,
   "id": "3341a3dc",
   "metadata": {},
   "outputs": [],
   "source": [
    "def in_target(x,y,t):\n",
    "    tx1 = min(t[0])\n",
    "    tx2 = max(t[0])\n",
    "    ty1 = min(t[1])\n",
    "    ty2 = max(t[1])\n",
    "    return (tx1 <= x <= tx2) and (ty1 <= y <= ty2)\n",
    "\n",
    "def probe(start, v, t):\n",
    "    x,y = start\n",
    "    dx,dy = v\n",
    "    tx1 = min(t[0])\n",
    "    tx2 = max(t[0])\n",
    "    ty1 = min(t[1])\n",
    "    ty2 = max(t[1])\n",
    "    \n",
    "    max_y = y\n",
    "    \n",
    "    while y > ty1:\n",
    "        x += dx\n",
    "        y += dy\n",
    "        max_y = max(y, max_y)\n",
    "        if dx > 0:\n",
    "            dx -= 1\n",
    "        elif dx < 0:\n",
    "            dx += 1\n",
    "        else:\n",
    "            dx = 0\n",
    "        dy -= 1\n",
    "        \n",
    "        if in_target(x,y,t):\n",
    "            return True, (x,y), max_y\n",
    "        \n",
    "    return False, (x,y), max_y"
   ]
  },
  {
   "cell_type": "code",
   "execution_count": 90,
   "id": "acc552e7",
   "metadata": {},
   "outputs": [
    {
     "name": "stdout",
     "output_type": "stream",
     "text": [
      "8646\n"
     ]
    }
   ],
   "source": [
    "tx1 = min(t[0])\n",
    "tx2 = max(t[0])\n",
    "ty1 = min(t[1])\n",
    "ty2 = max(t[1])\n",
    "\n",
    "max_y = 0\n",
    "# limit x search as more than this instantly overshoots\n",
    "for dx in range(1,tx2+1):\n",
    "    # limit y search - probably a cleverer way to do this\n",
    "    for dy in range(-200,200):\n",
    "        hit, final, m = probe((0,0), (dx,dy), t)\n",
    "        if hit and m > max_y:\n",
    "            max_y = m\n",
    "\n",
    "print(max_y)"
   ]
  },
  {
   "cell_type": "markdown",
   "id": "4e304284",
   "metadata": {},
   "source": [
    "## Part 2"
   ]
  },
  {
   "cell_type": "code",
   "execution_count": 92,
   "id": "4cbabaf2",
   "metadata": {},
   "outputs": [
    {
     "name": "stdout",
     "output_type": "stream",
     "text": [
      "5945\n"
     ]
    }
   ],
   "source": [
    "velocities = set()\n",
    "for dx in range(1,tx2+1):\n",
    "    for dy in range(-200,200):\n",
    "        hit, final, m = probe((0,0), (dx,dy), t)\n",
    "        if hit:\n",
    "            velocities.add((dx,dy))\n",
    "\n",
    "print(len(velocities))"
   ]
  }
 ],
 "metadata": {
  "kernelspec": {
   "display_name": "Python 3",
   "language": "python",
   "name": "python3"
  },
  "language_info": {
   "codemirror_mode": {
    "name": "ipython",
    "version": 3
   },
   "file_extension": ".py",
   "mimetype": "text/x-python",
   "name": "python",
   "nbconvert_exporter": "python",
   "pygments_lexer": "ipython3",
   "version": "3.8.8"
  }
 },
 "nbformat": 4,
 "nbformat_minor": 5
}
