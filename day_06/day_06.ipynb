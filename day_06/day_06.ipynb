{
 "cells": [
  {
   "cell_type": "code",
   "execution_count": 3,
   "id": "56db28c0",
   "metadata": {},
   "outputs": [],
   "source": [
    "file = open('input', 'r')\n",
    "file_str = file.read()\n",
    "lines = file_str.splitlines()"
   ]
  },
  {
   "cell_type": "markdown",
   "id": "db643e87",
   "metadata": {},
   "source": [
    "## Part 1"
   ]
  },
  {
   "cell_type": "code",
   "execution_count": 16,
   "id": "fcad6ffd",
   "metadata": {},
   "outputs": [
    {
     "name": "stdout",
     "output_type": "stream",
     "text": [
      "380243\n"
     ]
    }
   ],
   "source": [
    "import numpy as np\n",
    "\n",
    "initial_state = np.array(lines[0].split(','), dtype=int)\n",
    "\n",
    "def lf_simulation(lf_state, gestation=7, num_days=80):\n",
    "    for i in range(num_days):\n",
    "        \n",
    "        # Add babies\n",
    "        num_babies = np.sum(lf_state == 0)\n",
    "        new_lf = np.array([gestation + 2] * num_babies, dtype=int)\n",
    "        lf_state = np.append(lf_state, new_lf)\n",
    "        \n",
    "        # Reset gestations\n",
    "        lf_state += (lf_state == 0) * gestation\n",
    "        \n",
    "        # Increment days\n",
    "        lf_state -= 1\n",
    "        \n",
    "    return lf_state.shape[0]\n",
    "\n",
    "num_lf = lf_simulation(initial_state, num_days=80)\n",
    "print(num_lf)"
   ]
  },
  {
   "cell_type": "markdown",
   "id": "f67694cc",
   "metadata": {},
   "source": [
    "## Part 2"
   ]
  },
  {
   "cell_type": "code",
   "execution_count": 18,
   "id": "b0407e6b",
   "metadata": {},
   "outputs": [
    {
     "name": "stdout",
     "output_type": "stream",
     "text": [
      "1708791884591\n"
     ]
    }
   ],
   "source": [
    "# So I was naive before and modelled all lanternfish independently. \n",
    "# However, the behaviour of each fish in each state is identical\n",
    "\n",
    "def lf_simulation(lf_state, gestation=7, num_days=256):\n",
    "    \n",
    "    # representation of each lf in a gestation state (num of days)\n",
    "    # idx 3 = 3 days left\n",
    "    \n",
    "    lf_pop = [0, 0, 0, 0, 0, 0, 0, 0, 0]\n",
    "\n",
    "    # initialise population\n",
    "    for lf in lf_state:\n",
    "        lf_pop[lf] += 1\n",
    "        \n",
    "    for i in range(num_days):\n",
    "                \n",
    "        num_babies = lf_pop[0]\n",
    "        \n",
    "        # increment days\n",
    "        lf_pop = lf_pop[1:]\n",
    "        \n",
    "        # add babies\n",
    "        lf_pop += [num_babies]\n",
    "        \n",
    "        # reset gestations\n",
    "        lf_pop[6] += num_babies\n",
    "        \n",
    "    return sum(lf_pop)\n",
    "\n",
    "num_lf = lf_simulation(initial_state, num_days=256)\n",
    "print(num_lf)"
   ]
  }
 ],
 "metadata": {
  "kernelspec": {
   "display_name": "Python 3",
   "language": "python",
   "name": "python3"
  },
  "language_info": {
   "codemirror_mode": {
    "name": "ipython",
    "version": 3
   },
   "file_extension": ".py",
   "mimetype": "text/x-python",
   "name": "python",
   "nbconvert_exporter": "python",
   "pygments_lexer": "ipython3",
   "version": "3.8.8"
  }
 },
 "nbformat": 4,
 "nbformat_minor": 5
}
