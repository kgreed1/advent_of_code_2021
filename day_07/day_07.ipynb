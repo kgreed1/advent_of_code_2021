{
 "cells": [
  {
   "cell_type": "code",
   "execution_count": 31,
   "id": "56db28c0",
   "metadata": {},
   "outputs": [],
   "source": [
    "file = open('input', 'r')\n",
    "file_str = file.read()\n",
    "lines = file_str.splitlines()"
   ]
  },
  {
   "cell_type": "markdown",
   "id": "db643e87",
   "metadata": {},
   "source": [
    "## Part 1"
   ]
  },
  {
   "cell_type": "code",
   "execution_count": 34,
   "id": "fcad6ffd",
   "metadata": {},
   "outputs": [
    {
     "name": "stdout",
     "output_type": "stream",
     "text": [
      "328187\n"
     ]
    }
   ],
   "source": [
    "import numpy as np\n",
    "\n",
    "crab_positions = np.array(list(map(int, lines[0].split(','))))\n",
    "\n",
    "fuel_costs = []\n",
    "\n",
    "for target_position in range(max(crab_positions + 1)):\n",
    "    distances = np.abs(crab_positions - target_position)\n",
    "    fuel_costs.append(np.sum(distances))\n",
    "    \n",
    "print(min(fuel_costs))"
   ]
  },
  {
   "cell_type": "markdown",
   "id": "f67694cc",
   "metadata": {},
   "source": [
    "## Part 2"
   ]
  },
  {
   "cell_type": "code",
   "execution_count": 38,
   "id": "b0407e6b",
   "metadata": {},
   "outputs": [
    {
     "name": "stdout",
     "output_type": "stream",
     "text": [
      "91257582\n"
     ]
    }
   ],
   "source": [
    "fuel_costs = []\n",
    "\n",
    "for target_position in range(max(crab_positions + 1)):\n",
    "    distances = np.abs(crab_positions - target_position)\n",
    "    cost = np.array([d * (d + 1) / 2 for d in distances], dtype=int)\n",
    "    fuel_costs.append(np.sum(cost))\n",
    "\n",
    "print(min(fuel_costs))"
   ]
  },
  {
   "cell_type": "code",
   "execution_count": null,
   "id": "f1335f32",
   "metadata": {},
   "outputs": [],
   "source": []
  }
 ],
 "metadata": {
  "kernelspec": {
   "display_name": "Python 3",
   "language": "python",
   "name": "python3"
  },
  "language_info": {
   "codemirror_mode": {
    "name": "ipython",
    "version": 3
   },
   "file_extension": ".py",
   "mimetype": "text/x-python",
   "name": "python",
   "nbconvert_exporter": "python",
   "pygments_lexer": "ipython3",
   "version": "3.8.8"
  }
 },
 "nbformat": 4,
 "nbformat_minor": 5
}
